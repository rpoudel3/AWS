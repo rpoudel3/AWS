{
 "cells": [
  {
   "cell_type": "markdown",
   "metadata": {
    "collapsed": true
   },
   "source": [
    "## Setting up an AWS server\n",
    "\n",
    "### Introduction to storage\n",
    "\n",
    "EBS allows us to define one or more storage volumes of almost any size we wish. The hardware details of that storage will be handled for us behind the scenes. EBS volumes exist independently of an EC2 machine and can be moved from one machine to another and the contents can be stored and attached to multiple EC2 instances over time (though only one instance at a time).\n",
    "\n",
    "An AMI or Amazon Machine Instance is a template for launching an instance. The AMI includes a template for a pre-configured root volume that contains an operating system (e.g. Ubuntu Linux, Windows, etc.). The AMI also includes basic configuration of storage volumes that will be available within an instance. You can store a configured machine as an AMI to save your work. There are community AMIs that can be shared.\n",
    "\n",
    "### SSH into the server\n",
    "\n",
    "cd AWS-Tutorial  \n",
    "chmod 400 MyFirstKey.pem   \n",
    "ssh -i /Users/cameronstrachan/Desktop/scripts/MyFirstKey.pem -o ServerAliveInterval=60 ubuntu@52.40.146.10\n",
    "\n",
    "### Connect storage volumes to server and set up file structure\n",
    "\n",
    "sudo mkfs -t ext4 /dev/xvdc  \n",
    "sudo mkdir data  \n",
    "sudo mount /dev/xvdc data  \n",
    "sudo chmod 777 data  \n",
    "cd data  \n",
    "mkdir output  \n",
    "mkdir tools "
   ]
  },
  {
   "cell_type": "markdown",
   "metadata": {},
   "source": [
    "## Setting up on Azure\n",
    "\n",
    "Storage seems to be already attached to the server."
   ]
  },
  {
   "cell_type": "markdown",
   "metadata": {},
   "source": [
    "### Making the ssh key  and SSH into server\n",
    "ssh-keygen -t rsa -b 2048 -C \"<your_user@yourdomain.com>\"  \n",
    "ssh-add /Users/cameronstrachan/.ssh/id_rsa  \n",
    "  \n",
    "Use this to copy the key so that it can be pasted into the azure sever set up page:\n",
    "pbcopy < ~/.ssh/id_rsa.pub  \n",
    "  \n",
    "When using ssh, note the uder name is definted from the azure set up:  \n",
    "ssh -i /Users/cameronstrachan/.ssh/id_rsa -o ServerAliveInterval=60 cam@40.121.90.130  \n",
    "  \n",
    "A final precaution for preventing the broken pipe error, type the following command into a local terminal:  \n",
    "echo \"ClientAliveInterval 60\" | sudo tee -a /etc/ssh/sshd_config  "
   ]
  },
  {
   "cell_type": "markdown",
   "metadata": {},
   "source": [
    "## Running SPAdes"
   ]
  },
  {
   "cell_type": "markdown",
   "metadata": {},
   "source": [
    "### Downloading SPAdes and upload data\n",
    "\n",
    "cd tools  \n",
    "wget http://spades.bioinf.spbau.ru/release3.7.1/SPAdes-3.7.1-Linux.tar.gz  \n",
    "tar -xzf SPAdes-3.7.1-Linux.tar.gz  \n",
    "cd SPAdes-3.7.1-Linux/bin/  \n",
    "  \n",
    "Upload the data to the server by running scp from local machine (open new terminal window). \n",
    "  \n",
    "scp -r -i /Users/cameronstrachan/Desktop/scripts/MyFirstKey.pem /Users/cameronstrachan/Desktop/upload/ ubuntu@52.40.146.10:/home/ubuntu/data  \n",
    "  \n",
    "Once the data is uploaded, unzip the files on the server.   \n",
    "    \n",
    "cd input  \n",
    "gunzip *.gz  "
   ]
  },
  {
   "cell_type": "markdown",
   "metadata": {},
   "source": [
    "### Making command strings  \n",
    "\n",
    "On local machine run the following python script. "
   ]
  },
  {
   "cell_type": "code",
   "execution_count": null,
   "metadata": {
    "collapsed": true
   },
   "outputs": [],
   "source": [
    "import os\n",
    "import errno\n",
    "\n",
    "try:\n",
    "    os.makedirs(\"./input/commands/\")\n",
    "except OSError as exc: \n",
    "    if exc.errno == errno.EEXIST and os.path.isdir(\"./input/commands/\"):\n",
    "        pass\n",
    "    else:\n",
    "        raise\n",
    "\n",
    "filelist = [f for f in os.listdir(\"./input/\") if f.endswith(\".gz\")]\n",
    "names = []\n",
    "\n",
    "\n",
    "for k in range (0,len(filelist)):\n",
    "    files1=filelist[k]\n",
    "    files2=files1.split(\"_\")\n",
    "    names.append(files2[0])\n",
    "\n",
    "names = sorted(set(names))\n",
    "names = list(names)\n",
    "\n",
    "\n",
    "for j in names:\n",
    "    outfile = open(\"./input/commands/\"+str(j),\"w\")\n",
    "    command = []\n",
    "    for l in range (0,len(filelist)):\n",
    "        files3=filelist[l]\n",
    "        files4=files3.split(\"_\")\n",
    "        if j == files4[0]:\n",
    "            library = files4[2]\n",
    "            librarynum = list(library)\n",
    "            paired = files4[3]\n",
    "            pairednum = list(paired)\n",
    "            command.append(\"--pe\" + str(librarynum[3]) + \"-\" + str(pairednum[1]) + \" input/\" + filelist[l] + \" \")\n",
    "        else:\n",
    "            pass\n",
    "    outfile.write(\"python tools/SPAdes-3.7.1-Linux/bin/spades.py \" + \" \".join(command) + \"-o output/\" + str(j) + \"/\" + \"\\n\")\n",
    "    outfile.close()\n",
    "\n",
    "\n",
    "outfile = open(\"./input/commands/mkdirectory\",\"w\")\n",
    "for j in names:\n",
    "    outfile.write(\"mkdir output/\" + str(j) + \"\\n\")\n",
    "outfile.close()"
   ]
  },
  {
   "cell_type": "markdown",
   "metadata": {},
   "source": [
    "After running the above script, run the following commands in terminal:  \n",
    "  \n",
    "python make_commands2.py  \n",
    "cd input/commands  \n",
    "cat mkdirectory *x > commands.txt  \n",
    "sed -i '' 's/.gz//g' commands.txt  \n",
    "  \n",
    "The commands are ready to copy and run on the server. "
   ]
  },
  {
   "cell_type": "markdown",
   "metadata": {},
   "source": [
    "### Running SPAdes on the server\n",
    "  \n",
    "1. First, use the mkdir commands to make directories in the output folder. This is where the SPAdes data will be stored.  \n",
    "2. Open a tmux window by typing tmux \n",
    "3. Copy paste the commands, with a space at the bottom, into the tmux window. \n",
    "4. Detach from tmux by typing ctrl + b then d\n",
    "5. Type tmux attach to re-attach to the tmux window.\n",
    "6. If a second tmux window is opened, they can be toggled between ctrl + b then s. "
   ]
  },
  {
   "cell_type": "markdown",
   "metadata": {},
   "source": [
    "### Downloading the fasta files of contigs and scaffolds\n",
    "\n",
    "On the local machine, make corresponding directories and scp only the fasta files. Here is an example:  \n",
    "  \n",
    "mkdir ELS-10x  \n",
    "scp -i /Users/cameronstrachan/Desktop/scripts/MyFirstKey.pem ubuntu@52.33.23.163:/home/ubuntu/data/output/ELS-10x/*.fasta /Users/cameronstrachan/Desktop/ELS-10x  "
   ]
  }
 ],
 "metadata": {
  "kernelspec": {
   "display_name": "Python 2",
   "language": "python",
   "name": "python2"
  },
  "language_info": {
   "codemirror_mode": {
    "name": "ipython",
    "version": 2
   },
   "file_extension": ".py",
   "mimetype": "text/x-python",
   "name": "python",
   "nbconvert_exporter": "python",
   "pygments_lexer": "ipython2",
   "version": "2.7.11"
  }
 },
 "nbformat": 4,
 "nbformat_minor": 0
}
