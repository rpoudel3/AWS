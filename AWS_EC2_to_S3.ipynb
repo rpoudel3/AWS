{
 "cells": [
  {
   "cell_type": "markdown",
   "metadata": {},
   "source": [
    "## Uploading Data to and from EC2 to S3 &Basespace using AWS"
   ]
  },
  {
   "cell_type": "markdown",
   "metadata": {},
   "source": [
    "#### Uploading data to S3 and Creating an IAM role\n",
    "\n",
    "Select S3 once logged into the AWS console \n",
    "\n",
    "Create new bucket\n",
    "\n",
    "Under Services select IAM, create a new role and choose Amazon EC2 for the role type\n",
    "\n",
    "Choose AmazonS3FullAccess under policy name\n",
    "\n",
    "Use the same IAMrole while loading up an instance\n",
    "\n",
    "Under IAM, create a new User and download the credentials.\n",
    "\n",
    "Click on the created user;under the permissions tabs;add a new policy- AmazonS3FullAccess.\n",
    "\n",
    "#### Downloading files into S3 from your local computer using the terminal\n",
    "\n",
    "pip install awscli\n",
    "\n",
    "aws configure\n",
    "\n",
    "aws s3 cp /Users/rashmipoudel/Desktop/upload s3://lab-batch-1 --recursive\n",
    "\n",
    "#### Downloading files into S3 from basespace directly & AWSCLI configuration\n",
    "\n",
    "##### SSH into the server\n",
    "\n",
    "chmod 400 MyFirstKey.pem\n",
    "\n",
    "ssh -i /Users/cameronstrachan/Desktop/scripts/MyFirstKey.pem -o ServerAliveInterval=60 ubuntu@52.40.146.10\n",
    "\n",
    "Once logged into the instance:\n",
    "\n",
    "sudo bash -c \"$(curl -L https://basemount.basespace.illumina.com/install)\"\n",
    "\n",
    "mkdir basespace\n",
    "\n",
    "basemount basespace/\n",
    "\n",
    "cd basespace \n",
    "\n",
    "ls\n",
    "\n",
    "cd Runs\n",
    "\n",
    "mkdir data\n",
    "\n",
    "cp basespace/Runs data/"
   ]
  },
  {
   "cell_type": "markdown",
   "metadata": {},
   "source": [
    "#### AWS CLI Interface,Configuration and Copying files from EC2 to S3\n",
    "\n",
    "sudo apt-get update\n",
    "\n",
    "sudo apt-get install awscli\n",
    "\n",
    "aws configure\n",
    "\n",
    "Use the downloaded credential to enter access Key ID and secret access Key.\n",
    "\n",
    "Access key ID- ** \n",
    "\n",
    "Secret Access key- ** \n",
    "\n",
    "Region-us-west-2 \n",
    "\n",
    "Output type-text\n",
    "\n",
    "aws s3 cp data s3://new-bucket/ --recursive"
   ]
  },
  {
   "cell_type": "markdown",
   "metadata": {},
   "source": [
    "#### Upload Data from S3 bucket to EC2\n",
    "\n",
    "sudo mkfs -t ext4 /dev/xvdc\n",
    "\n",
    "sudo mkdir data\n",
    "\n",
    "sudo mount /dev/xvdc data\n",
    "\n",
    "sudo chmod 777 data\n",
    "\n",
    "cd data\n",
    "\n",
    "mkdir output\n",
    "\n",
    "mkdir tools\n",
    "\n",
    "aws ls s3\n",
    "\n",
    "To check the storage left on the EC2 instance:\n",
    "df -h\n",
    "\n",
    "aws s3 sync s3://metamixis-bucket1 data/input/\n",
    "\n",
    "aws s3 sync s3://spades-bucket data/input/\n",
    "\n",
    "mv data/input/12010_x/*.gz data/input/input/"
   ]
  },
  {
   "cell_type": "markdown",
   "metadata": {},
   "source": [
    "#### Step 2: Downloading and Running  Spades\n",
    "\n",
    "#### Downloading  Spades and Unzipping files\n",
    "\n",
    "cd tools\n",
    "\n",
    "wget http://spades.bioinf.spbau.ru/release3.8.1/SPAdes-3.7.1-Linux.tar.gz\n",
    "\n",
    "tar -xzf SPAdes-3.8.1-Linux.tar.gz\n",
    "\n",
    "cd SPAdes-3.8.1-Linux/bin/\n",
    "\n",
    "cd input\n",
    "\n",
    "gunzip *.gz\n",
    "\n",
    "\n"
   ]
  },
  {
   "cell_type": "markdown",
   "metadata": {},
   "source": [
    "#### Making command strings  \n",
    "\n",
    "On local machine run the following python script. "
   ]
  },
  {
   "cell_type": "code",
   "execution_count": null,
   "metadata": {
    "collapsed": true
   },
   "outputs": [],
   "source": [
    "import os\n",
    "import errno\n",
    "\n",
    "try:\n",
    "    os.makedirs(\"./input/commands/\")\n",
    "except OSError as exc: \n",
    "    if exc.errno == errno.EEXIST and os.path.isdir(\"./input/commands/\"):\n",
    "        pass\n",
    "    else:\n",
    "        raise\n",
    "\n",
    "filelist = [f for f in os.listdir(\"./input/\") if f.endswith(\".gz\")]\n",
    "names = []\n",
    "\n",
    "\n",
    "for k in range (0,len(filelist)):\n",
    "    files1=filelist[k]\n",
    "    files2=files1.split(\"_\")\n",
    "    names.append(files2[0])\n",
    "\n",
    "names = sorted(set(names))\n",
    "names = list(names)\n",
    "\n",
    "\n",
    "for j in names:\n",
    "    outfile = open(\"./input/commands/\"+str(j),\"w\")\n",
    "    command = []\n",
    "    for l in range (0,len(filelist)):\n",
    "        files3=filelist[l]\n",
    "        files4=files3.split(\"_\")\n",
    "        if j == files4[0]:\n",
    "            library = files4[2]\n",
    "            librarynum = list(library)\n",
    "            paired = files4[3]\n",
    "            pairednum = list(paired)\n",
    "            command.append(\"--pe\" + str(librarynum[3]) + \"-\" + str(pairednum[1]) + \" input/\" + filelist[l] + \" \")\n",
    "        else:\n",
    "            pass\n",
    "    outfile.write(\"python tools/SPAdes-3.7.1-Linux/bin/spades.py \" + \" \".join(command) + \"-o output/\" + str(j) + \"/\" + \"\\n\")\n",
    "    outfile.close()\n",
    "\n",
    "\n",
    "outfile = open(\"./input/commands/mkdirectory\",\"w\")\n",
    "for j in names:\n",
    "    outfile.write(\"mkdir output/\" + str(j) + \"\\n\")\n",
    "outfile.close()"
   ]
  },
  {
   "cell_type": "markdown",
   "metadata": {},
   "source": [
    "After running the above script, run the following commands in terminal:  \n",
    "  \n",
    "python make_commands2.py  \n",
    "cd input/commands  \n",
    "cat mkdirectory *> commands.txt  \n",
    "sed -i -e 's/.gz//g' commands.txt  \n",
    "  \n",
    "In the new terminal:\n",
    "\n",
    "scp -i /Users/rashmipoudel/Desktop/AWS/MyFirstKey-1.pem ubuntu@50.112.204.164:/home/ubuntu/data/input/input/commands/commands.txt /Users/rashmipoudel/Desktop/\n",
    "\n",
    "The commands are ready to copy and run on the server. \n"
   ]
  },
  {
   "cell_type": "markdown",
   "metadata": {},
   "source": [
    "#### Running SPAdes on the server\n",
    "  \n",
    "1. First, use the mkdir commands to make directories in the output folder. This is where the SPAdes data will be stored.  \n",
    "2. Open a tmux window by typing tmux \n",
    "3. Copy paste the commands, with a space at the bottom, into the tmux window. \n",
    "4. Detach from tmux by typing ctrl + b then d\n",
    "5. Type tmux attach to re-attach to the tmux window.\n",
    "6. If a second tmux window is opened, they can be toggled between ctrl + b then s. "
   ]
  },
  {
   "cell_type": "markdown",
   "metadata": {},
   "source": [
    "#### Step 3: Copying files from EC2 back to the S3 bucket\n",
    "\n",
    "aws s3 cp data/output/12010-18x  s3://metamixis-bucket1"
   ]
  }
 ],
 "metadata": {
  "kernelspec": {
   "display_name": "Python 2",
   "language": "python",
   "name": "python2"
  },
  "language_info": {
   "codemirror_mode": {
    "name": "ipython",
    "version": 2
   },
   "file_extension": ".py",
   "mimetype": "text/x-python",
   "name": "python",
   "nbconvert_exporter": "python",
   "pygments_lexer": "ipython2",
   "version": "2.7.10"
  }
 },
 "nbformat": 4,
 "nbformat_minor": 0
}
